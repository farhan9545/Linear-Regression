{
 "cells": [
  {
   "cell_type": "code",
   "execution_count": 1,
   "metadata": {},
   "outputs": [],
   "source": [
    "import pandas as pd       # using pandas for data manipulation\n",
    "import matplotlib.pyplot  # using matplotlib for visulization\n",
    "import numpy as np        # using numpy for array and matrix operations\n",
    "from sklearn.model_selection import train_test_split  # using sklearn for splitting our data in test and train data respectively"
   ]
  },
  {
   "cell_type": "markdown",
   "metadata": {},
   "source": [
    "# Q1"
   ]
  },
  {
   "cell_type": "code",
   "execution_count": 2,
   "metadata": {},
   "outputs": [],
   "source": [
    "df= pd.read_csv('ex1data1.txt')           # reading data in dataframe using pandas read csv function\n",
    "df.columns=['Population','Profit']        # renaming columns just to add clarity"
   ]
  },
  {
   "cell_type": "code",
   "execution_count": 3,
   "metadata": {},
   "outputs": [
    {
     "data": {
      "text/plain": [
       "<matplotlib.axes._subplots.AxesSubplot at 0x173c11238d0>"
      ]
     },
     "execution_count": 3,
     "metadata": {},
     "output_type": "execute_result"
    },
    {
     "data": {
      "image/png": "[encoded data removed]",
      "text/plain": [
       "<Figure size 432x288 with 1 Axes>"
      ]
     },
     "metadata": {
      "needs_background": "light"
     },
     "output_type": "display_data"
    }
   ],
   "source": [
    "df.plot.scatter(x='Population',y='Profit')   # ploting a scatter plot using matplotlib to visulize the data better"
   ]
  },
  {
   "cell_type": "code",
   "execution_count": 4,
   "metadata": {},
   "outputs": [],
   "source": [
    "X_train, X_test, y_train, y_test = train_test_split(df['Population'], df['Profit'], test_size=0.33, random_state=42) # splitting data in test[0.33] and train[0.67]"
   ]
  },
  {
   "cell_type": "code",
   "execution_count": 5,
   "metadata": {},
   "outputs": [],
   "source": [
    "X_train=np.asarray(X_train) # converting series in array\n",
    "y_train=np.asarray(y_train) # converting series in array\n",
    "X_test=np.asarray(X_test) # converting series in array\n",
    "y_test=np.asarray(y_test) # converting series in array"
   ]
  },
  {
   "cell_type": "code",
   "execution_count": 6,
   "metadata": {},
   "outputs": [],
   "source": [
    "theta0=0    # initilizing parameter 0  \n",
    "theta1=0    # initilizing paramter 1\n",
    "alpha= 0.01  # setting learnig rate at 0.01\n",
    "epochs=5000  # setting the epochs at 5000\n",
    "m=len(X_train) # getting the total num of rows of data set of training data\n",
    "for e in range (epochs): # running for 5000 epochs \n",
    "    error0=0   # setting error for paramter 0 to 0\n",
    "    error1=0   # setting error for paramter 1 to 0\n",
    "    for i in range (0,len(X_train)): #running inner loop for every row of training data \n",
    "        error0=error0+((theta0+theta1*X_train[i])-y_train[i])   # calculating error for paramter0\n",
    "        error1=error1+(((theta0+theta1*X_train[i])-y_train[i])*X_train[i])  # calculating error for paramter0\n",
    "    theta0=theta0-alpha*(1/m)*error0  #updating paramter 0 \n",
    "    theta1=theta1-alpha*(1/m)*error1  #updating paramter 1"
   ]
  },
  {
   "cell_type": "code",
   "execution_count": 7,
   "metadata": {},
   "outputs": [],
   "source": [
    "y=[] # list initialize\n",
    "for i in range (0,len(X_test)):  # running for test data\n",
    "    y.append(theta0+theta1*X_test[i])  # computing our hypothesis function and appending in a python list"
   ]
  },
  {
   "cell_type": "code",
   "execution_count": 8,
   "metadata": {},
   "outputs": [
    {
     "data": {
      "text/plain": [
       "[<matplotlib.lines.Line2D at 0x173c1477390>]"
      ]
     },
     "execution_count": 8,
     "metadata": {},
     "output_type": "execute_result"
    },
    {
     "data": {
      "image/png": "[encoded data removed]",
      "text/plain": [
       "<Figure size 432x288 with 1 Axes>"
      ]
     },
     "metadata": {
      "needs_background": "light"
     },
     "output_type": "display_data"
    }
   ],
   "source": [
    "matplotlib.pyplot.scatter(X_test,y_test,color='g')  # representing the original data in green color\n",
    "matplotlib.pyplot.plot(X_test,y,color='k')          # plotting our model prediction in black line"
   ]
  },
  {
   "cell_type": "code",
   "execution_count": 9,
   "metadata": {},
   "outputs": [
    {
     "name": "stdout",
     "output_type": "stream",
     "text": [
      "1.9392858858187776\n"
     ]
    }
   ],
   "source": [
    "#computing the mean absolute error for Q1 \n",
    "mae=0\n",
    "n=len(y_test)\n",
    "for i in range (0,n):\n",
    "    mae=mae+abs(y_test[i]-y[i])\n",
    "print(mae/n)"
   ]
  },
  {
   "cell_type": "code",
   "execution_count": 10,
   "metadata": {},
   "outputs": [
    {
     "name": "stdout",
     "output_type": "stream",
     "text": [
      "6.406588422627\n"
     ]
    }
   ],
   "source": [
    "#computing the mean square error for Q1 \n",
    "mse=0\n",
    "n=len(y_test)\n",
    "for i in range (0,n):\n",
    "    mse=mse+(y_test[i]-y[i])**2\n",
    "print(mse/n)"
   ]
  },
  {
   "cell_type": "code",
   "execution_count": 11,
   "metadata": {},
   "outputs": [
    {
     "name": "stdout",
     "output_type": "stream",
     "text": [
      "2.531123944540646\n"
     ]
    }
   ],
   "source": [
    "#computing the root mean square error for Q1 \n",
    "rms=np.sqrt(mse/n)\n",
    "print(rms)"
   ]
  },
  {
   "cell_type": "markdown",
   "metadata": {},
   "source": [
    "# Q2"
   ]
  },
  {
   "cell_type": "code",
   "execution_count": 157,
   "metadata": {},
   "outputs": [],
   "source": [
    "data = pd.read_csv('ex1data2.txt', header = None) # reading data in dataframe using pandas read csv function\n",
    "data.columns = [\"size\", \"bedroom\",\"price\"] # renaming columns just to add clarity"
   ]
  },
  {
   "cell_type": "code",
   "execution_count": 168,
   "metadata": {},
   "outputs": [],
   "source": [
    "features=data[['size','bedroom']].copy()  # adding features to list\n",
    "price=data['price'].copy()                # adding actual output to list\n",
    "features=pd.DataFrame(features)           # reading features as a dataframe\n",
    "features.insert(0, 'bias', 1)             # Adding bias term to make multiplication feasible \n",
    "price=np.asarray(price,dtype=np.float64)  # converting in numpy \n",
    "features=np.asarray(features,dtype=np.float64) # converting in numpy"
   ]
  },
  {
   "cell_type": "code",
   "execution_count": 169,
   "metadata": {},
   "outputs": [],
   "source": [
    "mean_size=features[:,1].mean()  # calculating mean of size feature\n",
    "std_size=features[:,1].std()    # calculating std of size feature\n",
    "features[:,1] = features[:,1]-(mean_size) # normalizing feature size\n",
    "features[:,1] =features[:,1]/ (std_size)  # normalizing feature size\n",
    "\n",
    "mean_bed=features[:,2].mean()   # calculating mean of bedroom feature\n",
    "std_bed=features[:,2].std()     # calculating std of bedroom feature\n",
    "features[:,2] = features[:,2]- mean_bed # normalizing feature size\n",
    "features[:,2] = features[:,2]/std_bed  # normalizing feature size\n",
    "features1=np.transpose(features)   # taking transpose of our feature vector"
   ]
  },
  {
   "cell_type": "code",
   "execution_count": 170,
   "metadata": {},
   "outputs": [],
   "source": [
    "X_train, X_test, y_train, y_test = train_test_split(features,price, test_size=0, random_state=40) # splitting data in test[0.33] and train[0.67]"
   ]
  },
  {
   "cell_type": "code",
   "execution_count": 171,
   "metadata": {},
   "outputs": [],
   "source": [
    "X_train=np.asarray(X_train) # converting series in array\n",
    "y_train=np.asarray(y_train) # converting series in array\n",
    "X_test=np.asarray(X_test) # converting series in array\n",
    "y_test=np.asarray(y_test) # converting series in array\n",
    "XT=np.transpose(X_train)"
   ]
  },
  {
   "cell_type": "code",
   "execution_count": 172,
   "metadata": {},
   "outputs": [],
   "source": [
    "total_features=2        # genralizing the number of fetaures . \n",
    "thetas=np.zeros(total_features+1) #making our paramters equal to the number of features \n",
    "alpha= 0.1     #learning rate 0.1\n",
    "epochs=100   # epoch 1000\n",
    "costs=[]   \n",
    "epoch=[]\n",
    "for e in range (epochs):\n",
    "    epoch.append(e)  # appending epoches for visulization\n",
    "    thetas=thetas-(alpha/len(y_train))*(np.dot(XT,(np.dot(X_train,thetas)-y_train))) # updating parameter values    \n",
    "    temp=(np.dot(X_train,thetas)-y_train)  \n",
    "    cost=(np.dot(np.transpose(temp),temp))/(2*len(y_train))\n",
    "    costs.append(cost) # appending cost for visulization"
   ]
  },
  {
   "cell_type": "markdown",
   "metadata": {},
   "source": [
    "matplotlib.pyplot.plot(epoch,costs,color='g')\n"
   ]
  },
  {
   "cell_type": "code",
   "execution_count": 173,
   "metadata": {},
   "outputs": [
    {
     "data": {
      "text/plain": [
       "[<matplotlib.lines.Line2D at 0x173c17698d0>]"
      ]
     },
     "execution_count": 173,
     "metadata": {},
     "output_type": "execute_result"
    },
    {
     "data": {
      "image/png": "[encoded data removed]",
      "text/plain": [
       "<Figure size 432x288 with 1 Axes>"
      ]
     },
     "metadata": {
      "needs_background": "light"
     },
     "output_type": "display_data"
    }
   ],
   "source": [
    "matplotlib.pyplot.plot(epoch,costs,color='g') # ploting cost against epochs"
   ]
  },
  {
   "cell_type": "code",
   "execution_count": 174,
   "metadata": {},
   "outputs": [],
   "source": [
    "# predicting price of a house\n",
    "def predict_price(size,bedroom):  \n",
    "    return(np.round(thetas[0]*1+thetas[1]*size+thetas[2]*bedroom))"
   ]
  },
  {
   "cell_type": "code",
   "execution_count": 175,
   "metadata": {},
   "outputs": [
    {
     "name": "stdout",
     "output_type": "stream",
     "text": [
      "293214.0\n"
     ]
    }
   ],
   "source": [
    "print(predict_price((1650-mean_size)/std_size,(3-mean_bed)/std_bed))"
   ]
  },
  {
   "cell_type": "code",
   "execution_count": null,
   "metadata": {},
   "outputs": [],
   "source": []
  },
  {
   "cell_type": "code",
   "execution_count": 166,
   "metadata": {},
   "outputs": [],
   "source": [
    "y=[] # list initialize\n",
    "for i in range (0,len(X_test)):  # running for test data\n",
    "    y.append(thetas[0]*1+thetas[1]*X_test[:,1][i]+thetas[2]*X_test[:,2][i])  # computing our hypothesis function and appending in a python list"
   ]
  },
  {
   "cell_type": "code",
   "execution_count": null,
   "metadata": {},
   "outputs": [],
   "source": []
  },
  {
   "cell_type": "code",
   "execution_count": 167,
   "metadata": {},
   "outputs": [
    {
     "name": "stdout",
     "output_type": "stream",
     "text": [
      "63290.709051657\n"
     ]
    }
   ],
   "source": [
    "#computing the mean absolute error for Q1 \n",
    "mae=0\n",
    "n=len(y_test)\n",
    "for i in range (0,n):\n",
    "    mae=mae+abs(y_test[i]-y[i])\n",
    "print(mae/n)"
   ]
  },
  {
   "cell_type": "markdown",
   "metadata": {},
   "source": [
    "# Q3"
   ]
  },
  {
   "cell_type": "code",
   "execution_count": 133,
   "metadata": {},
   "outputs": [],
   "source": [
    "data = pd.read_csv('ex1data2.txt', header = None) # reading data in dataframe using pandas read csv function\n",
    "data.columns = [\"size\", \"bedroom\",\"price\"] # renaming columns just to add clarity"
   ]
  },
  {
   "cell_type": "code",
   "execution_count": 134,
   "metadata": {},
   "outputs": [],
   "source": [
    "features=data[['size','bedroom']].copy()  # adding features to list\n",
    "price=data[['price']].copy()                # adding actual output to list\n",
    "features=pd.DataFrame(features)           # reading features as a dataframe\n",
    "features.insert(0, 'bias', 1)             # Adding bias term to make multiplication feasible \n",
    "price=np.asarray(price)  # converting in numpy \n",
    "features=np.asarray(features) # converting in numpy"
   ]
  },
  {
   "cell_type": "code",
   "execution_count": 135,
   "metadata": {},
   "outputs": [],
   "source": [
    "def get_theatas(features,price): # function for getting parameter values\n",
    "    X=features\n",
    "    y=price\n",
    "    x_transpose = np.transpose(X)   \n",
    "    thetas=np.linalg.pinv(np.mat(x_transpose)*np.mat(X))*x_transpose*y\n",
    "    return thetas   "
   ]
  },
  {
   "cell_type": "code",
   "execution_count": 136,
   "metadata": {},
   "outputs": [],
   "source": [
    "thetas=get_theatas(features,price) #getting values of thetas"
   ]
  },
  {
   "cell_type": "code",
   "execution_count": 137,
   "metadata": {},
   "outputs": [],
   "source": [
    "# function for predicting price of bedroom\n",
    "def predict_price(size,bedroom):\n",
    "    return(np.round(thetas[0]*1+thetas[1]*size+thetas[2]*bedroom))"
   ]
  },
  {
   "cell_type": "code",
   "execution_count": 138,
   "metadata": {},
   "outputs": [
    {
     "name": "stdout",
     "output_type": "stream",
     "text": [
      "[[293081.]]\n"
     ]
    }
   ],
   "source": [
    "print(predict_price(1650,3))"
   ]
  },
  {
   "cell_type": "code",
   "execution_count": 139,
   "metadata": {},
   "outputs": [],
   "source": [
    "y=[] # list initialize\n",
    "for i in range (0,len(features)):  # running for test data\n",
    "    y.append(thetas[0]*1+thetas[1]*features[:,1][i]+thetas[2]*features[:,2][i]) \n"
   ]
  },
  {
   "cell_type": "code",
   "execution_count": 140,
   "metadata": {},
   "outputs": [
    {
     "name": "stdout",
     "output_type": "stream",
     "text": [
      "[[51502.76840574]]\n"
     ]
    }
   ],
   "source": [
    "mae=0\n",
    "n=len(features)\n",
    "for i in range (0,n):\n",
    "    mae=mae+abs(price[i]-y[i])\n",
    "print(mae/n)"
   ]
  },
  {
   "cell_type": "code",
   "execution_count": null,
   "metadata": {},
   "outputs": [],
   "source": []
  }
 ],
 "metadata": {
  "kernelspec": {
   "display_name": "Python 3",
   "language": "python",
   "name": "python3"
  },
  "language_info": {
   "codemirror_mode": {
    "name": "ipython",
    "version": 3
   },
   "file_extension": ".py",
   "mimetype": "text/x-python",
   "name": "python",
   "nbconvert_exporter": "python",
   "pygments_lexer": "ipython3",
   "version": "3.6.8"
  }
 },
 "nbformat": 4,
 "nbformat_minor": 2
}
